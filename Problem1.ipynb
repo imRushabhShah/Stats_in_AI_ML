{
 "cells": [
  {
   "cell_type": "code",
   "execution_count": 2,
   "metadata": {},
   "outputs": [],
   "source": [
    "import re\n",
    "import numpy as np"
   ]
  },
  {
   "cell_type": "code",
   "execution_count": 14,
   "metadata": {},
   "outputs": [],
   "source": [
    "class Graph(object):\n",
    "    def __init__(self):\n",
    "        self.variable_count = 0\n",
    "        self.cardianlities = []\n",
    "        self.variables = []\n",
    "        self.node = {}\n",
    "        self.CPT = {}\n",
    "        self.functions = []\n",
    "        self.function_count = 0\n",
    "\n",
    "    def relations(self,var):\n",
    "        pass\n",
    "        \n",
    "    def __isEmpty__(self):\n",
    "        if self.variables == []:\n",
    "            return True\n",
    "        return False\n",
    "    \n",
    "    def min_degree(self):\n",
    "        if self.__isEmpty__():\n",
    "            return None\n",
    "        min_var = None\n",
    "        min_val = float('inf')\n",
    "        for v in self.variables:\n",
    "            v_count = len(self.node[v].intersection(self.variables))\n",
    "            if v_count < min_val:\n",
    "                min_val = v_count\n",
    "                min_var = v\n",
    "        return min_var,min_val\n",
    "    \n",
    "    def add(self,var): #var is list of variables forming a clique \n",
    "        self.functions.append(var)\n",
    "        for i in range(len(var)):\n",
    "            if var[i] in self.variables:\n",
    "                self.node[var[i]] = self.node[var[i]].union(var[0:i]+var[i+1:])\n",
    "            else:\n",
    "                self.variables.append(var[i])\n",
    "#                 print(var,var[:i]+var[i+1:])\n",
    "                self.node[var[i]] = set(var[0:i]+var[i+1:])\n",
    "    \n",
    "    def remove(self, var):\n",
    "        if self.__isEmpty__():\n",
    "            return False\n",
    "        else:\n",
    "            if var in self.variables:\n",
    "                self.variables.remove(var)\n",
    "                for adj_node in self.node[var]:\n",
    "                    self.node[adj_node] = self.node[var].union(self.node[adj_node])-{adj_node}\n",
    "            else:\n",
    "                print(var+\" does not exists\")\n",
    "                return False\n",
    "            return True\n",
    "    \n",
    "    def get_fuctions_with_var(self, var):\n",
    "        if self.function_count > 0:\n",
    "            \n",
    "        else:\n",
    "            return False\n",
    "    def sum_product(self, var):\n",
    "        "
   ]
  },
  {
   "cell_type": "code",
   "execution_count": 15,
   "metadata": {},
   "outputs": [],
   "source": [
    "def nextIndex(lines, index=-1):\n",
    "    # to handell blank lines or comments\n",
    "    index+=1\n",
    "    while index< len(lines):\n",
    "        content = lines[index].strip().split()\n",
    "        if len(content)==0 or content[0]=='c': \n",
    "            index+=1\n",
    "        else: \n",
    "            return index\n",
    "    if index >= len(lines):\n",
    "        print(\"Error in file\")\n",
    "        return None"
   ]
  },
  {
   "cell_type": "code",
   "execution_count": 16,
   "metadata": {},
   "outputs": [],
   "source": [
    "def readfile(file):\n",
    "    with open(file) as f:\n",
    "        lines = f.readlines()    \n",
    "\n",
    "    index = nextIndex(lines, -1)\n",
    "        \n",
    "    if lines[index].strip() =='MARKOV':\n",
    "        # storing variable_count \n",
    "        markov = Graph() \n",
    "        index = nextIndex(lines, index)\n",
    "        \n",
    "        markov.variable_count = int(lines[index].strip())\n",
    "#         markov.variables = [x for x in range(markov.variable_count)]\n",
    "#         self.nodes = {}\n",
    "#         self.CPT = {}\n",
    "#         self.functions = []\n",
    "#         markov. = \n",
    "        \n",
    "        # storing cardinality \n",
    "        index = nextIndex(lines, index)\n",
    "        markov.cardianlities = [int(x) for x in lines[index].strip().split()]\n",
    "        \n",
    "        # storing function count\n",
    "        index = nextIndex(lines, index)\n",
    "        markov.function_count = int(lines[index].strip())\n",
    "        \n",
    "        for function_index in range(markov.function_count):\n",
    "            index = nextIndex(lines, index)\n",
    "            if not index:\n",
    "                return None\n",
    "            clique = [int(x) for x in lines[index].strip().split()]\n",
    "            markov.add(clique[1:])\n",
    "        \n",
    "        \n",
    "        for function_index in range(markov.function_count):\n",
    "            index = nextIndex(lines, index)\n",
    "            if not index:\n",
    "                return None\n",
    "            count = int(lines[index].strip())\n",
    "            index = nextIndex(lines, index)\n",
    "            if not index:\n",
    "                return None\n",
    "            clique = markov.functions[function_index]\n",
    "            clique = '-'.join(str(x) for x in clique)\n",
    "            markov.CPT[clique]= np.asarray([float(x) for x in lines[index].strip().split()])\n",
    "            \n",
    "            \n",
    "        return markov\n",
    "    else:\n",
    "        print(lines[index].strip()+\" yet to write\")\n",
    "    "
   ]
  },
  {
   "cell_type": "code",
   "execution_count": 17,
   "metadata": {},
   "outputs": [],
   "source": [
    "mar = readfile('1.uai')"
   ]
  },
  {
   "cell_type": "code",
   "execution_count": 18,
   "metadata": {},
   "outputs": [
    {
     "name": "stdout",
     "output_type": "stream",
     "text": [
      "Removed 0 with degree 2\n",
      "Removed 2 with degree 2\n",
      "Removed 6 with degree 2\n",
      "Removed 8 with degree 2\n",
      "Removed 1 with degree 3\n",
      "Removed 3 with degree 3\n",
      "Removed 4 with degree 2\n",
      "Removed 5 with degree 1\n",
      "Removed 7 with degree 0\n"
     ]
    }
   ],
   "source": [
    "while True:\n",
    "    z = mar.min_degree()\n",
    "    if z:\n",
    "        var, degree = z \n",
    "        if mar.remove(var):\n",
    "            print(\"Removed\",var,\"with degree\",degree)\n",
    "    else:\n",
    "        break"
   ]
  },
  {
   "cell_type": "code",
   "execution_count": 19,
   "metadata": {},
   "outputs": [
    {
     "data": {
      "text/plain": [
       "{'0': array([0.87269, 1.1459 ]),\n",
       " '1': array([1.0696 , 0.93492]),\n",
       " '2': array([0.50955, 1.9625 ]),\n",
       " '3': array([1.3823 , 0.72345]),\n",
       " '4': array([2.0507 , 0.48763]),\n",
       " '5': array([0.83542, 1.197  ]),\n",
       " '6': array([0.40954, 2.4418 ]),\n",
       " '7': array([2.0889 , 0.47872]),\n",
       " '8': array([0.49618, 2.0154 ]),\n",
       " '0-1': array([3.6808e+02, 2.7168e-03, 2.7168e-03, 3.6808e+02]),\n",
       " '1-2': array([9.3843e+01, 1.0656e-02, 1.0656e-02, 9.3843e+01]),\n",
       " '3-4': array([1.5148e+03, 6.6016e-04, 6.6016e-04, 1.5148e+03]),\n",
       " '4-5': array([8.0239e+02, 1.2463e-03, 1.2463e-03, 8.0239e+02]),\n",
       " '6-7': array([0.39677, 2.5203 , 2.5203 , 0.39677]),\n",
       " '7-8': array([0.24393, 4.0996 , 4.0996 , 0.24393]),\n",
       " '0-3': array([6.7306e-04, 1.4858e+03, 1.4858e+03, 6.7306e-04]),\n",
       " '3-6': array([1.5296e-02, 6.5377e+01, 6.5377e+01, 1.5296e-02]),\n",
       " '1-4': array([10.748   ,  0.093037,  0.093037, 10.748   ]),\n",
       " '4-7': array([1.8837e-03, 5.3087e+02, 5.3087e+02, 1.8837e-03]),\n",
       " '2-5': array([8.2845e-03, 1.2071e+02, 1.2071e+02, 8.2845e-03]),\n",
       " '5-8': array([4.1451e-04, 2.4125e+03, 2.4125e+03, 4.1451e-04])}"
      ]
     },
     "execution_count": 19,
     "metadata": {},
     "output_type": "execute_result"
    }
   ],
   "source": [
    "mar.__dict__['CPT']"
   ]
  },
  {
   "cell_type": "code",
   "execution_count": 9,
   "metadata": {},
   "outputs": [],
   "source": [
    "a = np.zeros(3)"
   ]
  },
  {
   "cell_type": "code",
   "execution_count": 21,
   "metadata": {},
   "outputs": [
    {
     "ename": "KeyError",
     "evalue": "'0'",
     "output_type": "error",
     "traceback": [
      "\u001b[1;31m---------------------------------------------------------------------------\u001b[0m",
      "\u001b[1;31mKeyError\u001b[0m                                  Traceback (most recent call last)",
      "\u001b[1;32m<ipython-input-21-1b093ded4be8>\u001b[0m in \u001b[0;36m<module>\u001b[1;34m\u001b[0m\n\u001b[1;32m----> 1\u001b[1;33m \u001b[0mmar\u001b[0m\u001b[1;33m.\u001b[0m\u001b[0m__dict__\u001b[0m\u001b[1;33m[\u001b[0m\u001b[1;34m'CPT'\u001b[0m\u001b[1;33m]\u001b[0m\u001b[1;33m.\u001b[0m\u001b[0mpop\u001b[0m\u001b[1;33m(\u001b[0m\u001b[1;34m'0'\u001b[0m\u001b[1;33m)\u001b[0m\u001b[1;33m\u001b[0m\u001b[1;33m\u001b[0m\u001b[0m\n\u001b[0m",
      "\u001b[1;31mKeyError\u001b[0m: '0'"
     ]
    }
   ],
   "source": [
    "mar.__dict__['CPT'].pop('0')"
   ]
  },
  {
   "cell_type": "code",
   "execution_count": null,
   "metadata": {},
   "outputs": [],
   "source": []
  },
  {
   "cell_type": "code",
   "execution_count": 152,
   "metadata": {},
   "outputs": [
    {
     "ename": "ValueError",
     "evalue": "list.remove(x): x not in list",
     "output_type": "error",
     "traceback": [
      "\u001b[1;31m---------------------------------------------------------------------------\u001b[0m",
      "\u001b[1;31mValueError\u001b[0m                                Traceback (most recent call last)",
      "\u001b[1;32m<ipython-input-152-775a714b50d3>\u001b[0m in \u001b[0;36m<module>\u001b[1;34m\u001b[0m\n\u001b[1;32m----> 1\u001b[1;33m \u001b[1;33m[\u001b[0m\u001b[1;34m\" \\n\"\u001b[0m\u001b[1;33m]\u001b[0m\u001b[1;33m.\u001b[0m\u001b[0mremove\u001b[0m\u001b[1;33m(\u001b[0m\u001b[1;34m\"\\n\"\u001b[0m\u001b[1;33m)\u001b[0m\u001b[1;33m\u001b[0m\u001b[1;33m\u001b[0m\u001b[0m\n\u001b[0m",
      "\u001b[1;31mValueError\u001b[0m: list.remove(x): x not in list"
     ]
    }
   ],
   "source": []
  },
  {
   "cell_type": "code",
   "execution_count": 10,
   "metadata": {},
   "outputs": [],
   "source": [
    "a = set([2,1,3,4,5])"
   ]
  },
  {
   "cell_type": "code",
   "execution_count": 13,
   "metadata": {},
   "outputs": [
    {
     "ename": "TypeError",
     "evalue": "unsupported operand type(s) for -: 'set' and 'list'",
     "output_type": "error",
     "traceback": [
      "\u001b[1;31m---------------------------------------------------------------------------\u001b[0m",
      "\u001b[1;31mTypeError\u001b[0m                                 Traceback (most recent call last)",
      "\u001b[1;32m<ipython-input-13-7d814b6ef51f>\u001b[0m in \u001b[0;36m<module>\u001b[1;34m\u001b[0m\n\u001b[1;32m----> 1\u001b[1;33m \u001b[0ma\u001b[0m\u001b[1;33m-\u001b[0m\u001b[1;33m[\u001b[0m\u001b[1;36m2\u001b[0m\u001b[1;33m]\u001b[0m\u001b[1;33m\u001b[0m\u001b[1;33m\u001b[0m\u001b[0m\n\u001b[0m",
      "\u001b[1;31mTypeError\u001b[0m: unsupported operand type(s) for -: 'set' and 'list'"
     ]
    }
   ],
   "source": [
    "\n"
   ]
  },
  {
   "cell_type": "code",
   "execution_count": 162,
   "metadata": {},
   "outputs": [
    {
     "data": {
      "text/plain": [
       "'1, 2, 3, 4, 5'"
      ]
     },
     "execution_count": 162,
     "metadata": {},
     "output_type": "execute_result"
    }
   ],
   "source": [
    "', '.join(str(x) for x in a)"
   ]
  },
  {
   "cell_type": "code",
   "execution_count": null,
   "metadata": {},
   "outputs": [],
   "source": []
  }
 ],
 "metadata": {
  "kernelspec": {
   "display_name": "Python 3",
   "language": "python",
   "name": "python3"
  },
  "language_info": {
   "codemirror_mode": {
    "name": "ipython",
    "version": 3
   },
   "file_extension": ".py",
   "mimetype": "text/x-python",
   "name": "python",
   "nbconvert_exporter": "python",
   "pygments_lexer": "ipython3",
   "version": "3.7.3"
  }
 },
 "nbformat": 4,
 "nbformat_minor": 2
}
