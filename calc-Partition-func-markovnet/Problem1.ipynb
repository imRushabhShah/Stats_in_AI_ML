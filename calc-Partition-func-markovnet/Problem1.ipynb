{
 "cells": [
  {
   "cell_type": "code",
   "execution_count": 1,
   "metadata": {},
   "outputs": [],
   "source": [
    "import re\n",
    "import numpy as np\n",
    "import copy"
   ]
  },
  {
   "cell_type": "code",
   "execution_count": 2,
   "metadata": {},
   "outputs": [],
   "source": [
    "def readEvidance(file, graph):\n",
    "    with open(file) as f:\n",
    "        ev = [int(x) for x in f.readlines()[0].strip().split()]\n",
    "    if ev[0]==0:\n",
    "        return None\n",
    "    for evidance_index in range(ev[0]):\n",
    "        var = ev[(2*evidance_index)+1]\n",
    "        val = ev[(2*evidance_index)+2]\n",
    "        for func in graph.CPT.keys():\n",
    "            if var in func:\n",
    "                var_index = func.index(var)\n",
    "                new_size = 1\n",
    "                for v_index in range(len(func)):\n",
    "                    if not v_index == var_index:\n",
    "                        new_size *= graph.cardianlities[func[v_index]] \n",
    "                new_CPT = np.zeros(new_size)\n",
    "                stride = 1\n",
    "                for v_index in range(len(func)-2,var_index,-1):                    \n",
    "                    stride *= graph.cardianlities[func[v_index+1]]\n",
    "                \n",
    "                new_CPT_point = 0\n",
    "                old_CPT = graph.CPT[func]\n",
    "                start_point = stride*val\n",
    "                end_point = len(graph.CPT[func])\n",
    "                step = stride*graph.cardianlities[func[var_index]]\n",
    "                \n",
    "                for i in range(start_point,end_point,step):\n",
    "                    new_CPT[new_CPT_point:new_CPT_point+stride+1] = old_CPT[i:i+stride+1]\n",
    "                    new_CPT_point+=stride\n",
    "                \n",
    "                graph.CPT[func] = new_CPT\n",
    "#                 print(var,val,func,old_CPT,new_CPT)\n",
    "        graph.cardianlities[var]=1\n",
    "            \n",
    "    "
   ]
  },
  {
   "cell_type": "code",
   "execution_count": 3,
   "metadata": {},
   "outputs": [],
   "source": [
    "def nextIndex(lines, index=-1):\n",
    "    # to handell blank lines or comments\n",
    "    index+=1\n",
    "    while index< len(lines):\n",
    "        content = lines[index].strip().split()\n",
    "        if len(content)==0 or content[0]=='c': \n",
    "            index+=1\n",
    "        else: \n",
    "            return index\n",
    "    if index >= len(lines):\n",
    "        print(\"Reached end of file\")\n",
    "        return None"
   ]
  },
  {
   "cell_type": "code",
   "execution_count": 4,
   "metadata": {},
   "outputs": [],
   "source": [
    "def readfile(file):\n",
    "    with open(file) as f:\n",
    "        lines = f.readlines()    \n",
    "\n",
    "    index = nextIndex(lines, -1)\n",
    "        \n",
    "    if lines[index].strip() =='MARKOV':\n",
    "        # storing variable_count \n",
    "        markov = Graph() \n",
    "        index = nextIndex(lines, index)\n",
    "        \n",
    "        markov.variable_count = int(lines[index].strip())\n",
    "\n",
    "        # storing cardinality \n",
    "        index = nextIndex(lines, index)\n",
    "        markov.cardianlities = [int(x) for x in lines[index].strip().split()]\n",
    "        \n",
    "        # storing function count\n",
    "        index = nextIndex(lines, index)\n",
    "        markov.function_count = int(lines[index].strip())\n",
    "        \n",
    "        for function_index in range(markov.function_count):\n",
    "            index = nextIndex(lines, index)\n",
    "            assert index,\"invalid file format\"\n",
    "            clique = [int(x) for x in lines[index].strip().split()]\n",
    "            markov.add(clique[1:])\n",
    "        \n",
    "        \n",
    "        for function_index in range(markov.function_count):\n",
    "            index = nextIndex(lines, index)\n",
    "            assert index,\"invalid file format\"\n",
    "            count = int(lines[index].strip())\n",
    "            index = nextIndex(lines, index)\n",
    "            assert index,\"invalid file format\"\n",
    "            clique = tuple(markov.functions[function_index])\n",
    "#             clique = '-'.join(str(x) for x in clique)\n",
    "            \n",
    "            markov.CPT[clique]= np.asarray([float(x) for x in lines[index].strip().split()])\n",
    "            \n",
    "        return markov\n",
    "    else:\n",
    "        print(lines[index].strip()+\" yet to write\")\n",
    "    "
   ]
  },
  {
   "cell_type": "code",
   "execution_count": 5,
   "metadata": {},
   "outputs": [
    {
     "data": {
      "text/plain": [
       "(21.0, 2)"
      ]
     },
     "execution_count": 5,
     "metadata": {},
     "output_type": "execute_result"
    }
   ],
   "source": [
    "func = (0,1)\n",
    "\n",
    "order = (0,1,2)\n",
    "state = (1,0,0)\n",
    "\n",
    "cpt = [4.481689, 14.481689, 21.      , 40.481689]\n",
    "cpt_cardinality = [2,2,2]\n",
    "\n",
    "index = 0 \n",
    "pre_card = 0\n",
    "\n",
    "func_len = len(func)\n",
    "\n",
    "for f_index in range(len(func)):\n",
    "    f_order = order.index(func[len(func) - f_index - 1])\n",
    "    f_state = state[f_order]\n",
    "    index+= pre_card**f_index * f_state \n",
    "    pre_card = cpt_cardinality[f_order]\n",
    "cpt[index] , index"
   ]
  },
  {
   "cell_type": "code",
   "execution_count": null,
   "metadata": {},
   "outputs": [],
   "source": []
  },
  {
   "cell_type": "code",
   "execution_count": 16,
   "metadata": {},
   "outputs": [
    {
     "ename": "SyntaxError",
     "evalue": "invalid syntax (<ipython-input-16-44329562b163>, line 118)",
     "output_type": "error",
     "traceback": [
      "\u001b[1;36m  File \u001b[1;32m\"<ipython-input-16-44329562b163>\"\u001b[1;36m, line \u001b[1;32m118\u001b[0m\n\u001b[1;33m    f_order = state[\"order\"]index(func[len(func) - f_index - 1])\u001b[0m\n\u001b[1;37m                                ^\u001b[0m\n\u001b[1;31mSyntaxError\u001b[0m\u001b[1;31m:\u001b[0m invalid syntax\n"
     ]
    }
   ],
   "source": [
    "class Graph(object):\n",
    "    def __init__(self):\n",
    "        self.variable_count = 0\n",
    "        self.cardianlities = []\n",
    "        self.variables = []\n",
    "        self.node = {}\n",
    "        self.CPT = {}\n",
    "        self.functions = []\n",
    "        self.function_count = 0\n",
    "        self.VE_order = []\n",
    "        self.bucket = []\n",
    "    \n",
    "#     def copy_node(self):\n",
    "#         return copy.copy(self.node)\n",
    "\n",
    "    def __isEmpty__(self):\n",
    "        if self.variables == []:\n",
    "            return True\n",
    "        return False\n",
    "    \n",
    "    def min_degree(self):\n",
    "        VE_Order = []\n",
    "        node = copy.copy(self.node)\n",
    "        while not self.__isEmpty__():\n",
    "            min_var = None\n",
    "            min_val = float('inf')\n",
    "            for v in self.variables:\n",
    "                v_count = len(node[v].intersection(self.variables))\n",
    "                if v_count < min_val:\n",
    "                    min_val = v_count\n",
    "                    min_var = v\n",
    "            VE_Order.append(min_var)\n",
    "            self.remove_node_var(min_var, node)\n",
    "        self.VE_order = VE_Order\n",
    "        return VE_Order\n",
    "    \n",
    "    def add(self,var): #var is list of variables forming a clique \n",
    "        self.functions.append(var)\n",
    "        for i in range(len(var)):\n",
    "            if var[i] in self.variables:\n",
    "                self.node[var[i]] = self.node[var[i]].union(var[0:i]+var[i+1:])\n",
    "            else:\n",
    "                self.variables.append(var[i])\n",
    "#                 print(var,var[:i]+var[i+1:])\n",
    "                self.node[var[i]] = set(var[0:i]+var[i+1:])\n",
    "    \n",
    "    def remove_node_var(self, var, node):\n",
    "        if self.__isEmpty__():\n",
    "            return False\n",
    "        else:\n",
    "            if var in self.variables:\n",
    "                self.variables.remove(var)\n",
    "                for adj_node in node[var]:\n",
    "                    node[adj_node] = node[var].union(node[adj_node])-{adj_node}\n",
    "            else:\n",
    "                print(var+\" does not exists\")\n",
    "                return False\n",
    "            return True\n",
    "\n",
    "    def add_to_bucket(self, func):\n",
    "        for v in self.VE_order:\n",
    "            if v in func:\n",
    "                self.bucket[v].append(func)\n",
    "                break\n",
    "    \n",
    "    def remove_var_functions(self, var):\n",
    "        var_functions = [] \n",
    "        if len(self.functions) > 0:\n",
    "            for func in self.functions:\n",
    "                if var in func:\n",
    "                        var_functions.append(func)\n",
    "        for func in var_functions:\n",
    "            self.functions.remove(func)\n",
    "        self.function_count = len(self.functions)\n",
    "        \n",
    "    def get_fuctions_with_var(self, var):\n",
    "        var_functions = [] \n",
    "        if len(self.functions) > 0:\n",
    "            for i in range(len(self.functions)):\n",
    "                if var in self.functions[i]:\n",
    "                    new_clique = tuple(self.functions[i])\n",
    "#                     new_clique = \"-\".join(str(x) for x in self.functions[i])\n",
    "                    var_functions.append(new_clique)\n",
    "            if len(var_functions)>0:\n",
    "                return var_functions\n",
    "        print(\"No function for the variable\", var)\n",
    "        return False\n",
    "    \n",
    "    def create_bucket_functions(self):\n",
    "        self.bucket = [[] for _ in range(self.variable_count)]\n",
    "        for func in self.CPT.keys():\n",
    "            self.add_to_bucket(func)\n",
    "    \n",
    "    def get_new_clique(self,var, func):\n",
    "        new_clique = set({})\n",
    "        for f in func:\n",
    "            new_clique = new_clique.union(set(f))\n",
    "        new_clique -= {var} \n",
    "        new_clique = list(new_clique)\n",
    "        list(new_clique).sort()\n",
    "        new_clique_cardinality = [self.cardianlities[x] for x in new_clique]\n",
    "        new_clique = tuple(new_clique)\n",
    "        return new_clique,new_clique_cardinality\n",
    "    \n",
    "    \n",
    "    def get_value(self,func , state):#\n",
    "        # state is a tuple which has the order of the new vars and value assigned and cardinalities\n",
    "        # func = (0,1)\n",
    "        # state.order = (0,1,2)\n",
    "        # state.value = (1,0,0)\n",
    "        # cpt = [4.481689, 14.481689, 21.      , 40.481689]\n",
    "        cpt = self.CPT[func]\n",
    "        # state.cardinality = [2,2,2]\n",
    "        index = 0 \n",
    "        pre_card = 0\n",
    "        func_len = len(func)\n",
    "        for f_index in range(len(func)):\n",
    "            f_order = state[\"order\"]index(func[len(func) - f_index - 1])\n",
    "            index += pre_card**f_index * state[\"value\"][f_order] \n",
    "            pre_card = state[\"cardinality\"][f_order]    \n",
    "        return cpt[index]\n",
    "\n",
    "    def sum_product(self, var):\n",
    "        if not self.bucket:\n",
    "            self.create_bucket_functions()\n",
    "        var_functions = self.bucket[var]\n",
    "        assert var_functions,\"Invalid VE Order\"\n",
    "        new_clique,new_clique_cardinality = self.get_new_clique(var,var_functions)\n",
    "        \n",
    "        new_clique_cardinality_size = 1 \n",
    "        for i in new_clique_cardinality:\n",
    "            new_clique_cardinality_size*=i \n",
    "        clique_CPT = np.ones((self.cardianlities[var], new_clique_cardinality_size))\n",
    "        \n",
    "        temp_clique = list(new_clique)\n",
    "        temp_clique.append(var)\n",
    "        temp_clique_cardinalities = []\n",
    "        for i in temp_clique:\n",
    "            temp_clique_cardinalities.append(self.cardianlities[i])\n",
    "        \n",
    "        state = {}\n",
    "        state[\"order\"] = temp_clique\n",
    "        state[\"cardinality\"] = temp_clique_cardinalities\n",
    "        state[\"value\"] = [0]*len(temp_clique) \n",
    "        for i in range(state[\"cardinality\"][-1]):\n",
    "            for j in range(new_clique_cardinality_size):\n",
    "                state[\"value\"] = np.zeros(temp_clique) \n",
    "                index = temp_clique\n",
    "                while j>=0:\n",
    "                    if index// state[\"value\"][index]:\n",
    "                        state[\"value\"][index]=0\n",
    "                        index +=1\n",
    "                    state[\"value\"][index]+=1\n",
    "                    j-=1\n",
    "                for func in var_functions:\n",
    "                    print(self.get_value(func , state))\n",
    "                    \n",
    "                    \n",
    "                \n",
    "    def do_VE(self):\n",
    "        for min_var in self.VE_order:\n",
    "            new_clique, new_clique_CPT = self.sum_product(var)\n",
    "            if new_clique in self.CPT.keys():\n",
    "                old_clique_CPT = CPT[new_clique]\n",
    "                new_clique_CPT *= old_clique_CPT\n",
    "            CPT[new_clique] = new_clique_CPT\n",
    "            "
   ]
  },
  {
   "cell_type": "code",
   "execution_count": 13,
   "metadata": {},
   "outputs": [],
   "source": [
    "mar = readfile('1.uai')\n",
    "readEvidance(file=\"1.uai.evid\", graph=mar)\n",
    "mar.min_degree()\n",
    "mar.create_bucket_functions()"
   ]
  },
  {
   "cell_type": "code",
   "execution_count": 14,
   "metadata": {},
   "outputs": [
    {
     "data": {
      "text/plain": [
       "[[(0,), (0, 1), (0, 3)],\n",
       " [(1,), (1, 4)],\n",
       " [(2,), (1, 2), (2, 5)],\n",
       " [(3,), (3, 4)],\n",
       " [(4,), (4, 5), (4, 7)],\n",
       " [(5,)],\n",
       " [(6,), (6, 7), (3, 6)],\n",
       " [(7,)],\n",
       " [(8,), (7, 8), (5, 8)]]"
      ]
     },
     "execution_count": 14,
     "metadata": {},
     "output_type": "execute_result"
    }
   ],
   "source": [
    "mar.bucket"
   ]
  },
  {
   "cell_type": "code",
   "execution_count": 15,
   "metadata": {},
   "outputs": [
    {
     "ename": "AttributeError",
     "evalue": "'dict' object has no attribute 'value'",
     "output_type": "error",
     "traceback": [
      "\u001b[1;31m---------------------------------------------------------------------------\u001b[0m",
      "\u001b[1;31mAttributeError\u001b[0m                            Traceback (most recent call last)",
      "\u001b[1;32m<ipython-input-15-ef5993c075fa>\u001b[0m in \u001b[0;36m<module>\u001b[1;34m\u001b[0m\n\u001b[1;32m----> 1\u001b[1;33m \u001b[0mmar\u001b[0m\u001b[1;33m.\u001b[0m\u001b[0msum_product\u001b[0m\u001b[1;33m(\u001b[0m\u001b[1;36m0\u001b[0m\u001b[1;33m)\u001b[0m\u001b[1;33m\u001b[0m\u001b[1;33m\u001b[0m\u001b[0m\n\u001b[0m",
      "\u001b[1;32m<ipython-input-12-b146571b75eb>\u001b[0m in \u001b[0;36msum_product\u001b[1;34m(self, var)\u001b[0m\n\u001b[0;32m    145\u001b[0m         \u001b[1;32mfor\u001b[0m \u001b[0mi\u001b[0m \u001b[1;32min\u001b[0m \u001b[0mrange\u001b[0m\u001b[1;33m(\u001b[0m\u001b[0mstate\u001b[0m\u001b[1;33m[\u001b[0m\u001b[1;34m\"cardinality\"\u001b[0m\u001b[1;33m]\u001b[0m\u001b[1;33m[\u001b[0m\u001b[1;33m-\u001b[0m\u001b[1;36m1\u001b[0m\u001b[1;33m]\u001b[0m\u001b[1;33m)\u001b[0m\u001b[1;33m:\u001b[0m\u001b[1;33m\u001b[0m\u001b[1;33m\u001b[0m\u001b[0m\n\u001b[0;32m    146\u001b[0m             \u001b[1;32mfor\u001b[0m \u001b[0mj\u001b[0m \u001b[1;32min\u001b[0m \u001b[0mrange\u001b[0m\u001b[1;33m(\u001b[0m\u001b[0mnew_clique_cardinality_size\u001b[0m\u001b[1;33m)\u001b[0m\u001b[1;33m:\u001b[0m\u001b[1;33m\u001b[0m\u001b[1;33m\u001b[0m\u001b[0m\n\u001b[1;32m--> 147\u001b[1;33m                 \u001b[0mstate\u001b[0m\u001b[1;33m.\u001b[0m\u001b[0mvalue\u001b[0m \u001b[1;33m=\u001b[0m \u001b[0mnp\u001b[0m\u001b[1;33m.\u001b[0m\u001b[0mzeros\u001b[0m\u001b[1;33m(\u001b[0m\u001b[0mtemp_clique\u001b[0m\u001b[1;33m)\u001b[0m\u001b[1;33m\u001b[0m\u001b[1;33m\u001b[0m\u001b[0m\n\u001b[0m\u001b[0;32m    148\u001b[0m                 \u001b[0mindex\u001b[0m \u001b[1;33m=\u001b[0m \u001b[0mtemp_clique\u001b[0m\u001b[1;33m\u001b[0m\u001b[1;33m\u001b[0m\u001b[0m\n\u001b[0;32m    149\u001b[0m                 \u001b[1;32mwhile\u001b[0m \u001b[0mj\u001b[0m\u001b[1;33m>=\u001b[0m\u001b[1;36m0\u001b[0m\u001b[1;33m:\u001b[0m\u001b[1;33m\u001b[0m\u001b[1;33m\u001b[0m\u001b[0m\n",
      "\u001b[1;31mAttributeError\u001b[0m: 'dict' object has no attribute 'value'"
     ]
    }
   ],
   "source": [
    "mar.sum_product(0)"
   ]
  },
  {
   "cell_type": "code",
   "execution_count": 10,
   "metadata": {},
   "outputs": [],
   "source": [
    "# %debug"
   ]
  },
  {
   "cell_type": "code",
   "execution_count": 11,
   "metadata": {
    "scrolled": true
   },
   "outputs": [
    {
     "data": {
      "text/plain": [
       "(1, 0, 0)"
      ]
     },
     "execution_count": 11,
     "metadata": {},
     "output_type": "execute_result"
    }
   ],
   "source": []
  },
  {
   "cell_type": "code",
   "execution_count": 121,
   "metadata": {},
   "outputs": [
    {
     "data": {
      "text/plain": [
       "{(0,): array([0.87269, 1.1459 ]),\n",
       " (1,): array([1.0696 , 0.93492]),\n",
       " (2,): array([0.50955, 1.9625 ]),\n",
       " (3,): array([1.3823 , 0.72345]),\n",
       " (4,): array([2.0507 , 0.48763]),\n",
       " (5,): array([0.83542, 1.197  ]),\n",
       " (6,): array([0.40954, 2.4418 ]),\n",
       " (7,): array([2.0889 , 0.47872]),\n",
       " (8,): array([0.49618, 2.0154 ]),\n",
       " (0, 1): array([3.6808e+02, 2.7168e-03, 2.7168e-03, 3.6808e+02]),\n",
       " (1, 2): array([9.3843e+01, 1.0656e-02, 1.0656e-02, 9.3843e+01]),\n",
       " (3, 4): array([1.5148e+03, 6.6016e-04, 6.6016e-04, 1.5148e+03]),\n",
       " (4, 5): array([8.0239e+02, 1.2463e-03, 1.2463e-03, 8.0239e+02]),\n",
       " (6, 7): array([0.39677, 2.5203 , 2.5203 , 0.39677]),\n",
       " (7, 8): array([0.24393, 4.0996 , 4.0996 , 0.24393]),\n",
       " (0, 3): array([6.7306e-04, 1.4858e+03, 1.4858e+03, 6.7306e-04]),\n",
       " (3, 6): array([1.5296e-02, 6.5377e+01, 6.5377e+01, 1.5296e-02]),\n",
       " (1, 4): array([10.748   ,  0.093037,  0.093037, 10.748   ]),\n",
       " (4, 7): array([1.8837e-03, 5.3087e+02, 5.3087e+02, 1.8837e-03]),\n",
       " (2, 5): array([8.2845e-03, 1.2071e+02, 1.2071e+02, 8.2845e-03]),\n",
       " (5, 8): array([4.1451e-04, 2.4125e+03, 2.4125e+03, 4.1451e-04])}"
      ]
     },
     "execution_count": 121,
     "metadata": {},
     "output_type": "execute_result"
    }
   ],
   "source": [
    "mar.CPT"
   ]
  },
  {
   "cell_type": "code",
   "execution_count": 17,
   "metadata": {},
   "outputs": [
    {
     "data": {
      "text/plain": [
       "{1, 2}"
      ]
     },
     "execution_count": 17,
     "metadata": {},
     "output_type": "execute_result"
    }
   ],
   "source": [
    "a = set()\n",
    "a.union([1,2])\n"
   ]
  },
  {
   "cell_type": "code",
   "execution_count": 25,
   "metadata": {},
   "outputs": [
    {
     "data": {
      "text/plain": [
       "'1, 2, 3, 4, 5'"
      ]
     },
     "execution_count": 25,
     "metadata": {},
     "output_type": "execute_result"
    }
   ],
   "source": [
    "', '.join(str(x) for x in a)"
   ]
  },
  {
   "cell_type": "code",
   "execution_count": 93,
   "metadata": {},
   "outputs": [],
   "source": [
    "a=np.ones((2,4))\n",
    "a[0][:2]*=5"
   ]
  },
  {
   "cell_type": "code",
   "execution_count": 94,
   "metadata": {},
   "outputs": [
    {
     "data": {
      "text/plain": [
       "array([[5., 5., 1., 1.],\n",
       "       [1., 1., 1., 1.]])"
      ]
     },
     "execution_count": 94,
     "metadata": {},
     "output_type": "execute_result"
    }
   ],
   "source": [
    "a"
   ]
  },
  {
   "cell_type": "code",
   "execution_count": 88,
   "metadata": {},
   "outputs": [
    {
     "data": {
      "text/plain": [
       "1.0"
      ]
     },
     "execution_count": 88,
     "metadata": {},
     "output_type": "execute_result"
    }
   ],
   "source": [
    "a[0][2]"
   ]
  },
  {
   "cell_type": "code",
   "execution_count": 95,
   "metadata": {},
   "outputs": [
    {
     "ename": "SyntaxError",
     "evalue": "invalid syntax (<ipython-input-95-b292106a30eb>, line 1)",
     "output_type": "error",
     "traceback": [
      "\u001b[1;36m  File \u001b[1;32m\"<ipython-input-95-b292106a30eb>\"\u001b[1;36m, line \u001b[1;32m1\u001b[0m\n\u001b[1;33m    x for x in \"4-5\".split(\"-\")\u001b[0m\n\u001b[1;37m        ^\u001b[0m\n\u001b[1;31mSyntaxError\u001b[0m\u001b[1;31m:\u001b[0m invalid syntax\n"
     ]
    }
   ],
   "source": [
    "x for x in \"4-5\".split(\"-\")"
   ]
  },
  {
   "cell_type": "code",
   "execution_count": 46,
   "metadata": {},
   "outputs": [
    {
     "data": {
      "text/plain": [
       "2"
      ]
     },
     "execution_count": 46,
     "metadata": {},
     "output_type": "execute_result"
    }
   ],
   "source": [
    "[1,2,3].index(3)"
   ]
  },
  {
   "cell_type": "code",
   "execution_count": null,
   "metadata": {},
   "outputs": [],
   "source": []
  }
 ],
 "metadata": {
  "kernelspec": {
   "display_name": "Python 3",
   "language": "python",
   "name": "python3"
  },
  "language_info": {
   "codemirror_mode": {
    "name": "ipython",
    "version": 3
   },
   "file_extension": ".py",
   "mimetype": "text/x-python",
   "name": "python",
   "nbconvert_exporter": "python",
   "pygments_lexer": "ipython3",
   "version": "3.7.3"
  }
 },
 "nbformat": 4,
 "nbformat_minor": 2
}
