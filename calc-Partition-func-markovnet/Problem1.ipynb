{
 "cells": [
  {
   "cell_type": "code",
   "execution_count": 98,
   "metadata": {},
   "outputs": [],
   "source": [
    "import re\n",
    "import numpy as np\n",
    "import copy"
   ]
  },
  {
   "cell_type": "code",
   "execution_count": 99,
   "metadata": {},
   "outputs": [],
   "source": [
    "def nextIndex(lines, index=-1):\n",
    "    # to handell blank lines or comments\n",
    "    index+=1\n",
    "    while index< len(lines):\n",
    "        content = lines[index].strip().split()\n",
    "        if len(content)==0 or content[0]=='c': \n",
    "            index+=1\n",
    "        else: \n",
    "            return index\n",
    "    if index >= len(lines):\n",
    "        print(\"Reached end of file\")\n",
    "        return None"
   ]
  },
  {
   "cell_type": "code",
   "execution_count": 104,
   "metadata": {},
   "outputs": [],
   "source": [
    "class ComputeSumProduct(object):\n",
    "    def __init__(self):\n",
    "        self.function_order = []\n",
    "        CPT = []\n",
    "    \n",
    "    def compute_sum_product(self,function_value):\n",
    "        val = 1\n",
    "#         for funct in self.functions:\n",
    "#             key = tuple(funct)\n",
    "#             function_order\n",
    "#             CPT[key]\n",
    "        "
   ]
  },
  {
   "cell_type": "code",
   "execution_count": 106,
   "metadata": {},
   "outputs": [],
   "source": [
    "def readfile(file):\n",
    "    with open(file) as f:\n",
    "        lines = f.readlines()    \n",
    "\n",
    "    index = nextIndex(lines, -1)\n",
    "        \n",
    "    if lines[index].strip() =='MARKOV':\n",
    "        # storing variable_count \n",
    "        markov = Graph() \n",
    "        index = nextIndex(lines, index)\n",
    "        \n",
    "        markov.variable_count = int(lines[index].strip())\n",
    "\n",
    "        # storing cardinality \n",
    "        index = nextIndex(lines, index)\n",
    "        markov.cardianlities = [int(x) for x in lines[index].strip().split()]\n",
    "        \n",
    "        # storing function count\n",
    "        index = nextIndex(lines, index)\n",
    "        markov.function_count = int(lines[index].strip())\n",
    "        \n",
    "        for function_index in range(markov.function_count):\n",
    "            index = nextIndex(lines, index)\n",
    "            assert index,\"invalid file format\"\n",
    "            clique = [int(x) for x in lines[index].strip().split()]\n",
    "            markov.add(clique[1:])\n",
    "        \n",
    "        \n",
    "        for function_index in range(markov.function_count):\n",
    "            index = nextIndex(lines, index)\n",
    "            assert index,\"invalid file format\"\n",
    "            count = int(lines[index].strip())\n",
    "            index = nextIndex(lines, index)\n",
    "            assert index,\"invalid file format\"\n",
    "            clique = tuple(markov.functions[function_index])\n",
    "#             clique = '-'.join(str(x) for x in clique)\n",
    "            \n",
    "            markov.CPT[clique]= np.asarray([float(x) for x in lines[index].strip().split()])\n",
    "            \n",
    "        return markov\n",
    "    else:\n",
    "        print(lines[index].strip()+\" yet to write\")\n",
    "    "
   ]
  },
  {
   "cell_type": "code",
   "execution_count": 175,
   "metadata": {},
   "outputs": [],
   "source": [
    "class Graph(object):\n",
    "    def __init__(self):\n",
    "        self.variable_count = 0\n",
    "        self.cardianlities = []\n",
    "        self.variables = []\n",
    "        self.node = {}\n",
    "        self.CPT = {}\n",
    "        self.functions = []\n",
    "        self.function_count = 0\n",
    "        self.VE_order = []\n",
    "        self.bucket = []\n",
    "    \n",
    "#     def copy_node(self):\n",
    "#         return copy.copy(self.node)\n",
    "    \n",
    "    def relations(self,var):\n",
    "        pass\n",
    "        \n",
    "    def __isEmpty__(self):\n",
    "        if self.variables == []:\n",
    "            return True\n",
    "        return False\n",
    "    \n",
    "    def min_degree(self):\n",
    "        VE_Order = []\n",
    "        node = copy.copy(self.node)\n",
    "        while not self.__isEmpty__():\n",
    "            min_var = None\n",
    "            min_val = float('inf')\n",
    "            for v in self.variables:\n",
    "                v_count = len(node[v].intersection(self.variables))\n",
    "                if v_count < min_val:\n",
    "                    min_val = v_count\n",
    "                    min_var = v\n",
    "            VE_Order.append(min_var)\n",
    "            self.remove_node_var(min_var, node)\n",
    "        self.VE_order = VE_Order\n",
    "        return VE_Order\n",
    "    \n",
    "    def add(self,var): #var is list of variables forming a clique \n",
    "        self.functions.append(var)\n",
    "        for i in range(len(var)):\n",
    "            if var[i] in self.variables:\n",
    "                self.node[var[i]] = self.node[var[i]].union(var[0:i]+var[i+1:])\n",
    "            else:\n",
    "                self.variables.append(var[i])\n",
    "#                 print(var,var[:i]+var[i+1:])\n",
    "                self.node[var[i]] = set(var[0:i]+var[i+1:])\n",
    "    \n",
    "    def remove_node_var(self, var, node):\n",
    "        if self.__isEmpty__():\n",
    "            return False\n",
    "        else:\n",
    "            if var in self.variables:\n",
    "                self.variables.remove(var)\n",
    "                for adj_node in node[var]:\n",
    "                    node[adj_node] = node[var].union(node[adj_node])-{adj_node}\n",
    "            else:\n",
    "                print(var+\" does not exists\")\n",
    "                return False\n",
    "            return True\n",
    "    \n",
    "    def remove_var_functions(self, var):\n",
    "        var_functions = [] \n",
    "        if len(self.functions) > 0:\n",
    "            for i in range(len(self.functions)):\n",
    "                if var in self.functions[i]:\n",
    "                    var_functions.append(i)\n",
    "        for i in var_functions:\n",
    "            self.functions.pop(i)\n",
    "        \n",
    "    def get_fuctions_with_var(self, var):\n",
    "        var_functions = [] \n",
    "        if len(self.functions) > 0:\n",
    "            for i in range(len(self.functions)):\n",
    "                if var in self.functions[i]:\n",
    "                    new_clique = tuple(self.functions[i])\n",
    "#                     new_clique = \"-\".join(str(x) for x in self.functions[i])\n",
    "                    var_functions.append(new_clique)\n",
    "            if len(var_functions)>0:\n",
    "                return var_functions\n",
    "        print(\"No function for the variable\", var)\n",
    "        return False\n",
    "    \n",
    "    def create_bucket_functions(self):\n",
    "        self.bucket = [[] for _ in range(self.variable_count)]\n",
    "        for v in self.VE_order:\n",
    "            self.bucket[v] = self.get_fuctions_with_var(var)\n",
    "            self.remove_var_functions(var)\n",
    "    \n",
    "    def get_new_clique(self,var):\n",
    "        new_clique = list(self.node[var].intersection(self.VE_order))\n",
    "        new_clique.sort()\n",
    "        new_clique_cardinality = [self.cardianlities[x] for x in new_clique]\n",
    "        new_clique = tuple(new_clique)\n",
    "#         new_clique = \"-\".join(new_clique)\n",
    "        return new_clique,new_clique_cardinality\n",
    "    \n",
    "    \n",
    "    def sum_product(self, var):\n",
    "        self.create_bucket_functions()\n",
    "        var_functions = self.bucket[var]\n",
    "        assert var_functions,\"Invalid VE Order\"\n",
    "        new_clique,new_clique_cardinality = self.get_new_clique(var)\n",
    "        new_clique_cardinality_size = 1 \n",
    "        for i in new_clique_cardinality:\n",
    "            new_clique_cardinality_size*=i \n",
    "        new_clique_CPT = np.ones((self.cardianlities[var], new_clique_cardinality_size))\n",
    "         \n",
    "        for i in range(new_clique):\n",
    "            for j in range():\n",
    "                pass\n",
    "                \n",
    "        \n",
    "    \n",
    "    def do_VE(self):\n",
    "        for min_var in self.VE_order:\n",
    "            new_clique, new_clique_CPT = self.sum_product(var)\n",
    "            if new_clique in self.CPT.keys():\n",
    "                old_clique_CPT = CPT[new_clique]\n",
    "                new_clique_CPT *= old_clique_CPT\n",
    "            CPT[new_clique] = new_clique_CPT\n",
    "            "
   ]
  },
  {
   "cell_type": "code",
   "execution_count": 177,
   "metadata": {},
   "outputs": [
    {
     "name": "stdout",
     "output_type": "stream",
     "text": [
      "No function for the variable 0\n",
      "No function for the variable 0\n",
      "No function for the variable 0\n",
      "No function for the variable 0\n",
      "No function for the variable 0\n",
      "No function for the variable 0\n"
     ]
    }
   ],
   "source": [
    "mar = readfile('1.uai')\n",
    "readEvidance(file=\"1.uai.evid\", graph=mar)\n",
    "mar.min_degree()\n",
    "mar.create_bucket_functions()"
   ]
  },
  {
   "cell_type": "code",
   "execution_count": null,
   "metadata": {},
   "outputs": [],
   "source": []
  },
  {
   "cell_type": "code",
   "execution_count": 172,
   "metadata": {},
   "outputs": [
    {
     "data": {
      "text/plain": [
       "{'variable_count': 9,\n",
       " 'cardianlities': [1, 2, 2, 2, 1, 1, 2, 2, 2],\n",
       " 'variables': [],\n",
       " 'node': {0: {1, 3},\n",
       "  1: {0, 2, 4},\n",
       "  2: {1, 5},\n",
       "  3: {0, 4, 6},\n",
       "  4: {1, 3, 5, 7},\n",
       "  5: {2, 4, 8},\n",
       "  6: {3, 7},\n",
       "  7: {4, 6, 8},\n",
       "  8: {5, 7}},\n",
       " 'CPT': {(0,): array([1.1459]),\n",
       "  (1,): array([1.0696 , 0.93492]),\n",
       "  (2,): array([0.50955, 1.9625 ]),\n",
       "  (3,): array([1.3823 , 0.72345]),\n",
       "  (4,): array([0.48763]),\n",
       "  (5,): array([1.197]),\n",
       "  (6,): array([0.40954, 2.4418 ]),\n",
       "  (7,): array([2.0889 , 0.47872]),\n",
       "  (8,): array([0.49618, 2.0154 ]),\n",
       "  (0, 1): array([2.7168e-03, 3.6808e+02]),\n",
       "  (1, 2): array([9.3843e+01, 1.0656e-02, 1.0656e-02, 9.3843e+01]),\n",
       "  (3, 4): array([6.6016e-04, 1.5148e+03]),\n",
       "  (4, 5): array([802.39]),\n",
       "  (6, 7): array([0.39677, 2.5203 , 2.5203 , 0.39677]),\n",
       "  (7, 8): array([0.24393, 4.0996 , 4.0996 , 0.24393]),\n",
       "  (0, 3): array([1.4858e+03, 6.7306e-04]),\n",
       "  (3, 6): array([1.5296e-02, 6.5377e+01, 6.5377e+01, 1.5296e-02]),\n",
       "  (1, 4): array([ 0.093037, 10.748   ]),\n",
       "  (4, 7): array([5.3087e+02, 1.8837e-03]),\n",
       "  (2, 5): array([1.2071e+02, 8.2845e-03]),\n",
       "  (5, 8): array([2.4125e+03, 4.1451e-04])},\n",
       " 'functions': [[1],\n",
       "  [2],\n",
       "  [3],\n",
       "  [4],\n",
       "  [5],\n",
       "  [6],\n",
       "  [7],\n",
       "  [8],\n",
       "  [1, 2],\n",
       "  [3, 4],\n",
       "  [4, 5],\n",
       "  [6, 7],\n",
       "  [7, 8],\n",
       "  [3, 6],\n",
       "  [1, 4],\n",
       "  [4, 7],\n",
       "  [2, 5],\n",
       "  [5, 8]],\n",
       " 'function_count': 21,\n",
       " 'VE_order': [0, 2, 6, 8, 1, 3, 4, 5, 7],\n",
       " 'bucket': [[(0,), (0, 1), (0, 3)], 0, 0, 0, 0, 0, 0, 0, 0]}"
      ]
     },
     "execution_count": 172,
     "metadata": {},
     "output_type": "execute_result"
    }
   ],
   "source": [
    "mar.__dict__"
   ]
  },
  {
   "cell_type": "code",
   "execution_count": 154,
   "metadata": {},
   "outputs": [],
   "source": [
    "def readEvidance(file, graph):\n",
    "    with open(file) as f:\n",
    "        ev = [int(x) for x in f.readlines()[0].strip().split()]\n",
    "    if ev[0]==0:\n",
    "        return None\n",
    "    for evidance_index in range(ev[0]):\n",
    "        var = ev[(2*evidance_index)+1]\n",
    "        val = ev[(2*evidance_index)+2]\n",
    "        for func in graph.CPT.keys():\n",
    "            if var in func:\n",
    "                var_index = func.index(var)\n",
    "                new_size = 1\n",
    "                for v_index in range(len(func)):\n",
    "                    if not v_index == var_index:\n",
    "                        new_size *= graph.cardianlities[func[v_index]] \n",
    "                new_CPT = np.zeros(new_size)\n",
    "                stride = 1\n",
    "                for v_index in range(len(func)-2,var_index,-1):                    \n",
    "                    stride *= graph.cardianlities[func[v_index+1]]\n",
    "                \n",
    "                new_CPT_point = 0\n",
    "                old_CPT = graph.CPT[func]\n",
    "                start_point = stride*val\n",
    "                end_point = len(graph.CPT[func])\n",
    "                step = stride*graph.cardianlities[func[var_index]]\n",
    "                \n",
    "                for i in range(start_point,end_point,step):\n",
    "                    new_CPT[new_CPT_point:new_CPT_point+stride+1] = old_CPT[i:i+stride+1]\n",
    "                    new_CPT_point+=stride\n",
    "                \n",
    "                graph.CPT[func] = new_CPT\n",
    "#                 print(var,val,func,old_CPT,new_CPT)\n",
    "        graph.cardianlities[var]=1\n",
    "            \n",
    "    "
   ]
  },
  {
   "cell_type": "code",
   "execution_count": 151,
   "metadata": {},
   "outputs": [
    {
     "name": "stdout",
     "output_type": "stream",
     "text": [
      "0 1 (0,) [1.1459] [0.]\n",
      "0 1 (0, 1) [2.7168e-03 3.6808e+02] [368.08 368.08]\n",
      "0 1 (0, 3) [1.4858e+03 6.7306e-04] [0.00067306 0.00067306]\n",
      "4 1 (4,) [2.0507  0.48763] [0.48763]\n",
      "4 1 (3, 4) [1.5148e+03 6.6016e-04 6.6016e-04 1.5148e+03] [6.6016e-04 1.5148e+03]\n",
      "4 1 (4, 5) [8.0239e+02 1.2463e-03 1.2463e-03 8.0239e+02] [1.2463e-03 8.0239e+02]\n",
      "4 1 (1, 4) [10.748     0.093037  0.093037 10.748   ] [ 0.093037 10.748   ]\n",
      "4 1 (4, 7) [1.8837e-03 5.3087e+02 5.3087e+02 1.8837e-03] [5.3087e+02 1.8837e-03]\n",
      "5 1 (5,) [0.83542 1.197  ] [1.197]\n",
      "5 1 (4, 5) [1.2463e-03 8.0239e+02] [802.39]\n",
      "5 1 (2, 5) [8.2845e-03 1.2071e+02 1.2071e+02 8.2845e-03] [1.2071e+02 8.2845e-03]\n",
      "5 1 (5, 8) [4.1451e-04 2.4125e+03 2.4125e+03 4.1451e-04] [2.4125e+03 4.1451e-04]\n"
     ]
    }
   ],
   "source": [
    "readEvidance(file=\"1.uai.evid\", graph=mar)"
   ]
  },
  {
   "cell_type": "code",
   "execution_count": 22,
   "metadata": {
    "scrolled": true
   },
   "outputs": [],
   "source": [
    "# mar.__dict__['CPT'].pop('0')"
   ]
  },
  {
   "cell_type": "code",
   "execution_count": 121,
   "metadata": {},
   "outputs": [
    {
     "data": {
      "text/plain": [
       "{(0,): array([0.87269, 1.1459 ]),\n",
       " (1,): array([1.0696 , 0.93492]),\n",
       " (2,): array([0.50955, 1.9625 ]),\n",
       " (3,): array([1.3823 , 0.72345]),\n",
       " (4,): array([2.0507 , 0.48763]),\n",
       " (5,): array([0.83542, 1.197  ]),\n",
       " (6,): array([0.40954, 2.4418 ]),\n",
       " (7,): array([2.0889 , 0.47872]),\n",
       " (8,): array([0.49618, 2.0154 ]),\n",
       " (0, 1): array([3.6808e+02, 2.7168e-03, 2.7168e-03, 3.6808e+02]),\n",
       " (1, 2): array([9.3843e+01, 1.0656e-02, 1.0656e-02, 9.3843e+01]),\n",
       " (3, 4): array([1.5148e+03, 6.6016e-04, 6.6016e-04, 1.5148e+03]),\n",
       " (4, 5): array([8.0239e+02, 1.2463e-03, 1.2463e-03, 8.0239e+02]),\n",
       " (6, 7): array([0.39677, 2.5203 , 2.5203 , 0.39677]),\n",
       " (7, 8): array([0.24393, 4.0996 , 4.0996 , 0.24393]),\n",
       " (0, 3): array([6.7306e-04, 1.4858e+03, 1.4858e+03, 6.7306e-04]),\n",
       " (3, 6): array([1.5296e-02, 6.5377e+01, 6.5377e+01, 1.5296e-02]),\n",
       " (1, 4): array([10.748   ,  0.093037,  0.093037, 10.748   ]),\n",
       " (4, 7): array([1.8837e-03, 5.3087e+02, 5.3087e+02, 1.8837e-03]),\n",
       " (2, 5): array([8.2845e-03, 1.2071e+02, 1.2071e+02, 8.2845e-03]),\n",
       " (5, 8): array([4.1451e-04, 2.4125e+03, 2.4125e+03, 4.1451e-04])}"
      ]
     },
     "execution_count": 121,
     "metadata": {},
     "output_type": "execute_result"
    }
   ],
   "source": [
    "mar.CPT"
   ]
  },
  {
   "cell_type": "code",
   "execution_count": 130,
   "metadata": {},
   "outputs": [
    {
     "data": {
      "text/plain": [
       "0"
      ]
     },
     "execution_count": 130,
     "metadata": {},
     "output_type": "execute_result"
    }
   ],
   "source": []
  },
  {
   "cell_type": "code",
   "execution_count": 17,
   "metadata": {},
   "outputs": [
    {
     "data": {
      "text/plain": [
       "{1, 2}"
      ]
     },
     "execution_count": 17,
     "metadata": {},
     "output_type": "execute_result"
    }
   ],
   "source": [
    "a = set()\n",
    "a.union([1,2])\n"
   ]
  },
  {
   "cell_type": "code",
   "execution_count": 25,
   "metadata": {},
   "outputs": [
    {
     "data": {
      "text/plain": [
       "'1, 2, 3, 4, 5'"
      ]
     },
     "execution_count": 25,
     "metadata": {},
     "output_type": "execute_result"
    }
   ],
   "source": [
    "', '.join(str(x) for x in a)"
   ]
  },
  {
   "cell_type": "code",
   "execution_count": 93,
   "metadata": {},
   "outputs": [],
   "source": [
    "a=np.ones((2,4))\n",
    "a[0][:2]*=5"
   ]
  },
  {
   "cell_type": "code",
   "execution_count": 94,
   "metadata": {},
   "outputs": [
    {
     "data": {
      "text/plain": [
       "array([[5., 5., 1., 1.],\n",
       "       [1., 1., 1., 1.]])"
      ]
     },
     "execution_count": 94,
     "metadata": {},
     "output_type": "execute_result"
    }
   ],
   "source": [
    "a"
   ]
  },
  {
   "cell_type": "code",
   "execution_count": 88,
   "metadata": {},
   "outputs": [
    {
     "data": {
      "text/plain": [
       "1.0"
      ]
     },
     "execution_count": 88,
     "metadata": {},
     "output_type": "execute_result"
    }
   ],
   "source": [
    "a[0][2]"
   ]
  },
  {
   "cell_type": "code",
   "execution_count": 95,
   "metadata": {},
   "outputs": [
    {
     "ename": "SyntaxError",
     "evalue": "invalid syntax (<ipython-input-95-b292106a30eb>, line 1)",
     "output_type": "error",
     "traceback": [
      "\u001b[1;36m  File \u001b[1;32m\"<ipython-input-95-b292106a30eb>\"\u001b[1;36m, line \u001b[1;32m1\u001b[0m\n\u001b[1;33m    x for x in \"4-5\".split(\"-\")\u001b[0m\n\u001b[1;37m        ^\u001b[0m\n\u001b[1;31mSyntaxError\u001b[0m\u001b[1;31m:\u001b[0m invalid syntax\n"
     ]
    }
   ],
   "source": [
    "x for x in \"4-5\".split(\"-\")"
   ]
  },
  {
   "cell_type": "code",
   "execution_count": 131,
   "metadata": {},
   "outputs": [
    {
     "data": {
      "text/plain": [
       "5"
      ]
     },
     "execution_count": 131,
     "metadata": {},
     "output_type": "execute_result"
    }
   ],
   "source": [
    "(5, 6, 7)[0]"
   ]
  },
  {
   "cell_type": "code",
   "execution_count": null,
   "metadata": {},
   "outputs": [],
   "source": []
  }
 ],
 "metadata": {
  "kernelspec": {
   "display_name": "Python 3",
   "language": "python",
   "name": "python3"
  },
  "language_info": {
   "codemirror_mode": {
    "name": "ipython",
    "version": 3
   },
   "file_extension": ".py",
   "mimetype": "text/x-python",
   "name": "python",
   "nbconvert_exporter": "python",
   "pygments_lexer": "ipython3",
   "version": "3.7.3"
  }
 },
 "nbformat": 4,
 "nbformat_minor": 2
}
